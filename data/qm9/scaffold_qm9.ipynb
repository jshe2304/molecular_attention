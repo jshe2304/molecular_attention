{
 "cells": [
  {
   "cell_type": "code",
   "execution_count": 1,
   "id": "2b45c079-baf5-44f4-ad9a-6da6f4bbc942",
   "metadata": {},
   "outputs": [],
   "source": [
    "import pandas as pd\n",
    "import numpy as np\n",
    "from tqdm import tqdm\n",
    "\n",
    "from rdkit import Chem\n",
    "from rdkit.Chem.Scaffolds import MurckoScaffold\n",
    "from collections import defaultdict\n",
    "\n",
    "import random\n",
    "import os"
   ]
  },
  {
   "cell_type": "code",
   "execution_count": 2,
   "id": "b3cc83c2-23aa-46d6-b4af-0444553105fe",
   "metadata": {},
   "outputs": [],
   "source": [
    "smiles_file = 'smiles.csv'\n",
    "y_file = 'norm_y.csv'\n",
    "coordinates_file = 'coordinates.npy'"
   ]
  },
  {
   "cell_type": "markdown",
   "id": "1a4acf3b-8fab-42e0-9f32-d0057f905f64",
   "metadata": {},
   "source": [
    "## Load Data"
   ]
  },
  {
   "cell_type": "code",
   "execution_count": 3,
   "id": "209a469b-5cdf-4fc7-80e8-6459f4a6b3ce",
   "metadata": {},
   "outputs": [],
   "source": [
    "smiles = pd.read_csv(smiles_file)['SMILES']\n",
    "y = pd.read_csv(y_file)\n",
    "coordinates = np.load(coordinates_file)"
   ]
  },
  {
   "cell_type": "markdown",
   "id": "c9eff31d-091e-4cfa-bade-bc9de5fb5a62",
   "metadata": {},
   "source": [
    "## Determine scaffolds"
   ]
  },
  {
   "cell_type": "code",
   "execution_count": 4,
   "id": "77b4c31c-869f-48f5-90e0-662212d83672",
   "metadata": {},
   "outputs": [],
   "source": [
    "def get_scaffold(smiles):\n",
    "    return MurckoScaffold.MurckoScaffoldSmiles(smiles)"
   ]
  },
  {
   "cell_type": "code",
   "execution_count": 5,
   "id": "6b0e4642-9e3a-4527-aca1-212d30541b3d",
   "metadata": {},
   "outputs": [
    {
     "name": "stderr",
     "output_type": "stream",
     "text": [
      "127356it [00:11, 10955.36it/s]\n"
     ]
    }
   ],
   "source": [
    "scaffold_dict = defaultdict(set)\n",
    "for i, smile in tqdm(enumerate(smiles.to_list())):\n",
    "    scaffold_dict[get_scaffold(smile)].add(i)"
   ]
  },
  {
   "cell_type": "code",
   "execution_count": 6,
   "id": "d647a155-a20b-4861-8b53-0a746d0fe8aa",
   "metadata": {},
   "outputs": [],
   "source": [
    "scaffold_sets = iter(random.sample(list(scaffold_dict.values()), len(scaffold_dict)))"
   ]
  },
  {
   "cell_type": "markdown",
   "id": "3a41c4d6-f7e4-4511-aabb-98ba092f4f66",
   "metadata": {},
   "source": [
    "## Create scaffold splits"
   ]
  },
  {
   "cell_type": "code",
   "execution_count": 7,
   "id": "e9f75d78-2604-4cbe-a03f-6d9727cf0f2a",
   "metadata": {},
   "outputs": [
    {
     "name": "stdout",
     "output_type": "stream",
     "text": [
      "101891 12738 12727\n"
     ]
    }
   ],
   "source": [
    "train_set, validation_set = set(), set()\n",
    "\n",
    "while len(train_set) < (0.8 * len(smiles)):\n",
    "    train_set.update(next(scaffold_sets))\n",
    "\n",
    "while len(validation_set) < (0.1 * len(smiles)):\n",
    "    validation_set.update(next(scaffold_sets))\n",
    "\n",
    "test_set = set().union(*scaffold_sets)\n",
    "\n",
    "train_set, validation_set, test_set = list(train_set), list(validation_set), list(test_set)\n",
    "print(len(train_set), len(validation_set), len(test_set))"
   ]
  },
  {
   "cell_type": "code",
   "execution_count": 8,
   "id": "94059679-9980-4b3a-89f0-3df15bb9565a",
   "metadata": {},
   "outputs": [],
   "source": [
    "smiles[train_set].to_csv('./scaffold/smiles_train.csv', index=None)\n",
    "y.loc[train_set].to_csv('./scaffold/y_train.csv', index=None)\n",
    "np.save('./scaffold/coordinates_train.csv', coordinates[train_set])\n",
    "\n",
    "smiles[validation_set].to_csv('./scaffold/smiles_validation.csv', index=None)\n",
    "y.loc[validation_set].to_csv('./scaffold/y_validation.csv', index=None)\n",
    "np.save('./scaffold/coordinates_validation.csv', coordinates[validation_set])\n",
    "\n",
    "smiles[test_set].to_csv('./scaffold/smiles_test.csv', index=None)\n",
    "y.loc[test_set].to_csv('./scaffold/y_test.csv', index=None)\n",
    "np.save('./scaffold/coordinates_test.csv', coordinates[test_set])"
   ]
  }
 ],
 "metadata": {
  "kernelspec": {
   "display_name": "Python 3 (ipykernel)",
   "language": "python",
   "name": "python3"
  },
  "language_info": {
   "codemirror_mode": {
    "name": "ipython",
    "version": 3
   },
   "file_extension": ".py",
   "mimetype": "text/x-python",
   "name": "python",
   "nbconvert_exporter": "python",
   "pygments_lexer": "ipython3",
   "version": "3.9.21"
  }
 },
 "nbformat": 4,
 "nbformat_minor": 5
}
