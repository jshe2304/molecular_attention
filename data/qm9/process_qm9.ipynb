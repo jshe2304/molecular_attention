{
 "cells": [
  {
   "cell_type": "code",
   "execution_count": 1,
   "id": "2b45c079-baf5-44f4-ad9a-6da6f4bbc942",
   "metadata": {},
   "outputs": [],
   "source": [
    "import pandas as pd\n",
    "import numpy as np\n",
    "from tqdm import tqdm\n",
    "\n",
    "from rdkit import Chem\n",
    "from rdkit.Chem import AllChem\n",
    "\n",
    "import os"
   ]
  },
  {
   "cell_type": "code",
   "execution_count": 4,
   "id": "b3cc83c2-23aa-46d6-b4af-0444553105fe",
   "metadata": {},
   "outputs": [],
   "source": [
    "csv_file = 'raw/raw_qm9.csv'\n",
    "coordinates_file = 'raw/raw_coordinates.npy'"
   ]
  },
  {
   "cell_type": "markdown",
   "id": "1a4acf3b-8fab-42e0-9f32-d0057f905f64",
   "metadata": {},
   "source": [
    "## Load Data"
   ]
  },
  {
   "cell_type": "code",
   "execution_count": 5,
   "id": "209a469b-5cdf-4fc7-80e8-6459f4a6b3ce",
   "metadata": {},
   "outputs": [],
   "source": [
    "data = pd.read_csv(csv_file)\n",
    "\n",
    "smiles = data['SMILES']\n",
    "y = data.iloc[:, 1:]\n",
    "coordinates = np.load(coordinates_file)"
   ]
  },
  {
   "cell_type": "markdown",
   "id": "c9eff31d-091e-4cfa-bade-bc9de5fb5a62",
   "metadata": {},
   "source": [
    "## Remove outliers"
   ]
  },
  {
   "cell_type": "code",
   "execution_count": 6,
   "id": "17883c8d-8458-4283-bea5-cb1361accdd3",
   "metadata": {},
   "outputs": [],
   "source": [
    "# Filter Extreme Outliers\n",
    "mask = (y['A'] < 500) & (y['A'] > 0)"
   ]
  },
  {
   "cell_type": "code",
   "execution_count": 7,
   "id": "3ce12fe9-59e9-47a9-8dea-823d861dc9f7",
   "metadata": {},
   "outputs": [],
   "source": [
    "smiles, y, coordinates = smiles[mask], y[mask], coordinates[mask]"
   ]
  },
  {
   "cell_type": "markdown",
   "id": "8720ef82-e6cd-4724-bfa2-482de9cf7e95",
   "metadata": {},
   "source": [
    "## Normalize"
   ]
  },
  {
   "cell_type": "code",
   "execution_count": 8,
   "id": "78dd91b0-dba9-4738-946a-c6b60360e784",
   "metadata": {},
   "outputs": [],
   "source": [
    "# Normalize\n",
    "mu = y.mean()\n",
    "std = y.std()\n",
    "norm_y = (y - mu)/std"
   ]
  },
  {
   "cell_type": "code",
   "execution_count": 9,
   "id": "32f3e38c-ff7e-4fcf-854a-462e9d4459cf",
   "metadata": {},
   "outputs": [],
   "source": [
    "# Save mean and standard deviation\n",
    "norm_statistics = pd.concat((mu, std), axis=1)\n",
    "norm_statistics.columns = ['mean', 'std']"
   ]
  },
  {
   "cell_type": "markdown",
   "id": "19f1cf24-3f8f-4ae5-b395-e8b7d3b78df9",
   "metadata": {},
   "source": [
    "## Save"
   ]
  },
  {
   "cell_type": "code",
   "execution_count": 10,
   "id": "71af1d39-82a3-40d3-a3ad-536bcec2127d",
   "metadata": {},
   "outputs": [],
   "source": [
    "smiles.to_csv('smiles.csv', index=None)\n",
    "norm_y.to_csv('norm_y.csv', index=None)\n",
    "norm_statistics.to_csv('norm_statistics.csv', index=None)\n",
    "np.save('coordinates.npy', coordinates)"
   ]
  }
 ],
 "metadata": {
  "kernelspec": {
   "display_name": "Python 3 (ipykernel)",
   "language": "python",
   "name": "python3"
  },
  "language_info": {
   "codemirror_mode": {
    "name": "ipython",
    "version": 3
   },
   "file_extension": ".py",
   "mimetype": "text/x-python",
   "name": "python",
   "nbconvert_exporter": "python",
   "pygments_lexer": "ipython3",
   "version": "3.9.21"
  }
 },
 "nbformat": 4,
 "nbformat_minor": 5
}
