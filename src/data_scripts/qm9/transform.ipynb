{
 "cells": [
  {
   "cell_type": "code",
   "execution_count": 1,
   "id": "2b45c079-baf5-44f4-ad9a-6da6f4bbc942",
   "metadata": {},
   "outputs": [],
   "source": [
    "import numpy as np"
   ]
  },
  {
   "cell_type": "code",
   "execution_count": 2,
   "id": "e979eab2",
   "metadata": {},
   "outputs": [],
   "source": [
    "indir = '/scratch/midway3/jshe/data/qm9/raw/'\n",
    "outdir = '/scratch/midway3/jshe/data/qm9/transformed/'"
   ]
  },
  {
   "cell_type": "markdown",
   "id": "1a4acf3b-8fab-42e0-9f32-d0057f905f64",
   "metadata": {},
   "source": [
    "## Load Data"
   ]
  },
  {
   "cell_type": "code",
   "execution_count": 3,
   "id": "41a91511-45df-49ee-bdbf-9e551844c114",
   "metadata": {},
   "outputs": [],
   "source": [
    "y = np.load(indir + 'properties.npy')\n",
    "names, datas = zip(*[\n",
    "    ('atoms', np.load(indir + 'atoms.npy')), \n",
    "    ('coordinates', np.load(indir + 'coordinates.npy')), \n",
    "    ('conformers', np.load(indir + 'conformers.npy')), \n",
    "    ('partial_charges', np.load(indir + 'partial_charges.npy')), \n",
    "    ('smiles', np.load(indir + 'smiles.npy')), \n",
    "])"
   ]
  },
  {
   "cell_type": "markdown",
   "id": "c9eff31d-091e-4cfa-bade-bc9de5fb5a62",
   "metadata": {},
   "source": [
    "## Remove outliers"
   ]
  },
  {
   "cell_type": "code",
   "execution_count": 4,
   "id": "17883c8d-8458-4283-bea5-cb1361accdd3",
   "metadata": {},
   "outputs": [],
   "source": [
    "mask = (y[:, 0] < 500) & (y[:, 0] > 0)\n",
    "\n",
    "y = y[mask]\n",
    "datas = [arr[mask] for arr in datas]"
   ]
  },
  {
   "cell_type": "markdown",
   "id": "4ed183eb-e937-4114-b81a-94c86054bbab",
   "metadata": {},
   "source": [
    "## Shuffle"
   ]
  },
  {
   "cell_type": "code",
   "execution_count": 5,
   "id": "d09d0446-18da-487c-a54b-294988d66d4f",
   "metadata": {},
   "outputs": [],
   "source": [
    "indices = np.arange(len(y))\n",
    "np.random.shuffle(indices)\n",
    "\n",
    "datas = [arr[indices] for arr in datas]"
   ]
  },
  {
   "cell_type": "markdown",
   "id": "7b703611-2e85-4cdc-8116-396673b8c04c",
   "metadata": {},
   "source": [
    "## Log transform A, B, C"
   ]
  },
  {
   "cell_type": "code",
   "execution_count": 6,
   "id": "bdef85a7-466f-4499-9453-d69adeb15e12",
   "metadata": {},
   "outputs": [],
   "source": [
    "y[:, 0] = np.log(y[:, 0])\n",
    "y[:, 1] = np.log(y[:, 1])\n",
    "y[:, 2] = np.log(y[:, 2])"
   ]
  },
  {
   "cell_type": "markdown",
   "id": "8720ef82-e6cd-4724-bfa2-482de9cf7e95",
   "metadata": {},
   "source": [
    "## Normalize"
   ]
  },
  {
   "cell_type": "code",
   "execution_count": 7,
   "id": "78dd91b0-dba9-4738-946a-c6b60360e784",
   "metadata": {},
   "outputs": [],
   "source": [
    "mu = y.mean(axis=0)\n",
    "std = y.std(axis=0)\n",
    "\n",
    "norm_y = (y - mu)/std"
   ]
  },
  {
   "cell_type": "markdown",
   "id": "19f1cf24-3f8f-4ae5-b395-e8b7d3b78df9",
   "metadata": {},
   "source": [
    "## Save"
   ]
  },
  {
   "cell_type": "code",
   "execution_count": 9,
   "id": "71af1d39-82a3-40d3-a3ad-536bcec2127d",
   "metadata": {},
   "outputs": [],
   "source": [
    "np.save(outdir + 'norm_y.npy', norm_y)\n",
    "np.save(outdir + 'mu.npy', mu)\n",
    "np.save(outdir + 'std.npy', std)\n",
    "\n",
    "for name, field in zip(names, datas):\n",
    "    np.save(outdir + name, field)"
   ]
  }
 ],
 "metadata": {
  "kernelspec": {
   "display_name": "env",
   "language": "python",
   "name": "python3"
  },
  "language_info": {
   "codemirror_mode": {
    "name": "ipython",
    "version": 3
   },
   "file_extension": ".py",
   "mimetype": "text/x-python",
   "name": "python",
   "nbconvert_exporter": "python",
   "pygments_lexer": "ipython3",
   "version": "3.9.21"
  }
 },
 "nbformat": 4,
 "nbformat_minor": 5
}
