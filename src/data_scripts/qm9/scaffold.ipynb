{
 "cells": [
  {
   "cell_type": "code",
   "execution_count": 1,
   "id": "2b45c079-baf5-44f4-ad9a-6da6f4bbc942",
   "metadata": {},
   "outputs": [],
   "source": [
    "import numpy as np\n",
    "from tqdm import tqdm\n",
    "\n",
    "from rdkit import Chem\n",
    "from rdkit.Chem.Scaffolds import MurckoScaffold\n",
    "from collections import defaultdict\n",
    "\n",
    "import random\n",
    "import os"
   ]
  },
  {
   "cell_type": "code",
   "execution_count": 2,
   "id": "94c85a1b",
   "metadata": {},
   "outputs": [],
   "source": [
    "indir = '/scratch/midway3/jshe/data/qm9/transformed/'\n",
    "outdir = '/scratch/midway3/jshe/data/qm9/scaffolded/'"
   ]
  },
  {
   "cell_type": "markdown",
   "id": "1a4acf3b-8fab-42e0-9f32-d0057f905f64",
   "metadata": {},
   "source": [
    "## Load Data"
   ]
  },
  {
   "cell_type": "code",
   "execution_count": 4,
   "id": "209a469b-5cdf-4fc7-80e8-6459f4a6b3ce",
   "metadata": {},
   "outputs": [],
   "source": [
    "smiles = np.load(indir + 'smiles.npy')\n",
    "\n",
    "names, datas = zip(*[\n",
    "    ('atoms', np.load(indir + 'atoms.npy')), \n",
    "    ('coordinates', np.load(indir + 'coordinates.npy')), \n",
    "    ('conformers', np.load(indir + 'conformers.npy')), \n",
    "    ('partial_charges', np.load(indir + 'partial_charges.npy')), \n",
    "    ('norm_y', np.load(indir + 'norm_y.npy')), \n",
    "])"
   ]
  },
  {
   "cell_type": "markdown",
   "id": "c9eff31d-091e-4cfa-bade-bc9de5fb5a62",
   "metadata": {},
   "source": [
    "## Determine scaffolds"
   ]
  },
  {
   "cell_type": "code",
   "execution_count": 5,
   "id": "6b0e4642-9e3a-4527-aca1-212d30541b3d",
   "metadata": {},
   "outputs": [
    {
     "name": "stderr",
     "output_type": "stream",
     "text": [
      "127346it [00:12, 10367.02it/s]\n"
     ]
    }
   ],
   "source": [
    "scaffold_dict = defaultdict(set)\n",
    "for i, smile in tqdm(enumerate(list(smiles))):\n",
    "    scaffold_dict[MurckoScaffold.MurckoScaffoldSmiles(smile)].add(i)"
   ]
  },
  {
   "cell_type": "code",
   "execution_count": 6,
   "id": "d647a155-a20b-4861-8b53-0a746d0fe8aa",
   "metadata": {},
   "outputs": [],
   "source": [
    "scaffold_sets = iter(random.sample(list(scaffold_dict.values()), len(scaffold_dict)))"
   ]
  },
  {
   "cell_type": "markdown",
   "id": "3a41c4d6-f7e4-4511-aabb-98ba092f4f66",
   "metadata": {},
   "source": [
    "## Create scaffold splits"
   ]
  },
  {
   "cell_type": "code",
   "execution_count": 7,
   "id": "e9f75d78-2604-4cbe-a03f-6d9727cf0f2a",
   "metadata": {},
   "outputs": [
    {
     "name": "stdout",
     "output_type": "stream",
     "text": [
      "Train: 109024\n",
      "Validation: 18322\n"
     ]
    }
   ],
   "source": [
    "train_set = set()\n",
    "while len(train_set) < (0.85 * len(smiles)):\n",
    "    train_set.update(next(scaffold_sets))\n",
    "\n",
    "validation_set = set().union(*scaffold_sets)\n",
    "\n",
    "train_set, validation_set = list(train_set), list(validation_set)\n",
    "print('Train:', len(train_set))\n",
    "print('Validation:', len(validation_set))"
   ]
  },
  {
   "cell_type": "code",
   "execution_count": 8,
   "id": "94059679-9980-4b3a-89f0-3df15bb9565a",
   "metadata": {},
   "outputs": [],
   "source": [
    "outdir = '/scratch/midway3/jshe/data/qm9/scaffolded/'\n",
    "\n",
    "np.save(outdir + 'train_smiles.npy', smiles[train_set])\n",
    "for name, arr in zip(names, datas):\n",
    "    np.save(outdir + 'train_' + name, arr[train_set])\n",
    "\n",
    "np.save(outdir + 'validation_smiles.npy', smiles[validation_set])\n",
    "for name, arr in zip(names, datas):\n",
    "    np.save(outdir + 'validation_' + name, arr[validation_set])"
   ]
  },
  {
   "cell_type": "code",
   "execution_count": null,
   "id": "2c6fdbea",
   "metadata": {},
   "outputs": [],
   "source": []
  }
 ],
 "metadata": {
  "kernelspec": {
   "display_name": "env",
   "language": "python",
   "name": "python3"
  },
  "language_info": {
   "codemirror_mode": {
    "name": "ipython",
    "version": 3
   },
   "file_extension": ".py",
   "mimetype": "text/x-python",
   "name": "python",
   "nbconvert_exporter": "python",
   "pygments_lexer": "ipython3",
   "version": "3.9.21"
  }
 },
 "nbformat": 4,
 "nbformat_minor": 5
}
