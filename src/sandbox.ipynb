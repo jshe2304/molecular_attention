{
 "cells": [
  {
   "cell_type": "code",
   "execution_count": 1,
   "id": "54ba8606-d47b-4449-aa1c-886ac343a26c",
   "metadata": {},
   "outputs": [],
   "source": [
    "from utils.datasets import *\n",
    "from utils.molecular_graphs import smiles_to_graphs\n",
    "from utils.point_clouds import *\n",
    "\n",
    "from models.global_transformer import Transformer\n",
    "\n",
    "import torch\n",
    "import torch.nn as nn\n",
    "from torch.utils.data import DataLoader\n",
    "\n",
    "%load_ext autoreload\n",
    "%autoreload 2"
   ]
  },
  {
   "cell_type": "markdown",
   "id": "f944e9c6-41a5-4c8e-9e60-3c2541d267fc",
   "metadata": {},
   "source": [
    "## Data"
   ]
  },
  {
   "cell_type": "code",
   "execution_count": 43,
   "id": "36ba813d-b5bc-4621-81dd-5c040208e758",
   "metadata": {},
   "outputs": [],
   "source": [
    "datadir = '/scratch/midway3/jshe/data/qm9/scaffolded/'\n",
    "\n",
    "data_names = [\n",
    "    'atoms',\n",
    "    'coordinates',\n",
    "    'norm_y', \n",
    "]\n",
    "\n",
    "train_dataset = NPYDataset(*[\n",
    "    datadir + f'train_{data_name}.npy' \n",
    "    for data_name in data_names\n",
    "])\n",
    "validation_dataset = NPYDataset(*[\n",
    "    datadir + f'validation_{data_name}.npy' \n",
    "    for data_name in data_names\n",
    "])\n",
    "\n",
    "train_dataloader = DataLoader(train_dataset, batch_size=64, shuffle=True, collate_fn=collate_point_clouds)\n",
    "validation_dataloader = DataLoader(validation_dataset, batch_size=2048, shuffle=True, collate_fn=collate_point_clouds)\n",
    "\n",
    "n_properties = train_dataset.datas[-1].shape[1]"
   ]
  },
  {
   "cell_type": "markdown",
   "id": "b7650088-221f-49fd-87ca-0b59ea707df8",
   "metadata": {},
   "source": [
    "## Model"
   ]
  },
  {
   "cell_type": "code",
   "execution_count": 3,
   "id": "4c6ff45d-d570-4bee-a482-6f4d91164d55",
   "metadata": {},
   "outputs": [],
   "source": [
    "E, H, stack = 128, 8, 'p8'\n",
    "E, H = int(E), int(H)"
   ]
  },
  {
   "cell_type": "code",
   "execution_count": 4,
   "id": "e5cc61e7-4a82-4728-a457-3e54d41af6b2",
   "metadata": {},
   "outputs": [
    {
     "name": "stdout",
     "output_type": "stream",
     "text": [
      "Parameters: 1588175\n"
     ]
    }
   ],
   "source": [
    "model = Transformer(\n",
    "    in_features=(5, (9+1, 8+1, 2+1, 2+1)), \n",
    "    out_features=n_properties, \n",
    "    E=E, H=H, stack=stack, \n",
    "    dropout=0.1, \n",
    ")\n",
    "print(f'Parameters: {sum(p.numel() for p in model.parameters() if p.requires_grad)}')"
   ]
  },
  {
   "cell_type": "code",
   "execution_count": 7,
   "id": "a37c74aa-8f0b-4af3-a1cd-a6d65b361ffd",
   "metadata": {},
   "outputs": [
    {
     "data": {
      "text/plain": [
       "<All keys matched successfully>"
      ]
     },
     "execution_count": 7,
     "metadata": {},
     "output_type": "execute_result"
    }
   ],
   "source": [
    "model.load_state_dict(torch.load(\n",
    "    './weights/qm9_scaffold/E128_H8_p8.pt', \n",
    "    map_location=torch.device('cpu')\n",
    "))"
   ]
  },
  {
   "cell_type": "code",
   "execution_count": 28,
   "id": "26eff914-2362-4039-a068-001f3edcf4ef",
   "metadata": {},
   "outputs": [
    {
     "name": "stdout",
     "output_type": "stream",
     "text": [
      "tensor([[0.9991, 0.9991, 1.0090, 0.9991, 0.9991, 0.9991, 0.9990, 0.9991]])\n",
      "tensor([[0.9985, 0.9990, 0.9992, 0.9991, 3.1006, 1.1198, 0.9397, 0.9957]])\n",
      "tensor([[0.9985, 0.9982, 1.0143, 0.9982, 1.0682, 0.9981, 0.9986, 0.9979]])\n",
      "tensor([[0.9995, 0.9991, 0.9363, 0.9993, 0.9986, 0.9993, 0.9989, 1.9192]])\n",
      "tensor([[1.0008, 1.0000, 1.0001, 1.1683, 0.9082, 0.9990, 0.9997, 1.0009]])\n",
      "tensor([[0.9995, 0.9984, 0.9536, 0.9994, 0.9998, 0.9993, 0.9996, 0.9990]])\n",
      "tensor([[3.3805, 1.0814, 0.9989, 0.9706, 0.9999, 0.9849, 0.9226, 0.9999]])\n",
      "tensor([[0.9949, 1.0003, 1.0003, 1.0002, 1.0003, 0.9999, 1.0000, 1.0003]])\n"
     ]
    }
   ],
   "source": [
    "for i in range(8):\n",
    "    print(model.transformer_blocks[i].bias_scale.log_weight.exp().t().detach())"
   ]
  },
  {
   "cell_type": "code",
   "execution_count": null,
   "id": "db6c3bd6-192b-4ea6-8181-11e8140dfd62",
   "metadata": {},
   "outputs": [],
   "source": [
    "optimizer = torch.optim.Adam(model.parameters(), weight_decay=0.001)\n",
    "mse = nn.MSELoss()\n",
    "\n",
    "for epoch in range(64):\n",
    "\n",
    "    # Train loop over batches\n",
    "    \n",
    "    for smiles, r, y_true in train_dataloader:\n",
    "        model.train()\n",
    "        optimizer.zero_grad()\n",
    "\n",
    "        # Create graphs\n",
    "\n",
    "        nodes_numerical, nodes_categorical, adj, padding = smiles_to_graphs(smiles, device='cpu')\n",
    "\n",
    "        # Forward pass\n",
    "        \n",
    "        y_pred = model(\n",
    "            nodes_numerical.float(), nodes_categorical, \n",
    "            adj, padding, r\n",
    "        )\n",
    "        loss = mse(y_pred, y_true)\n",
    "        loss.backward()\n",
    "        optimizer.step()\n",
    "\n",
    "        print(loss)\n",
    "\n",
    "        if loss.isnan(): \n",
    "            raise Exception('nan')"
   ]
  }
 ],
 "metadata": {
  "kernelspec": {
   "display_name": "Python 3 (ipykernel)",
   "language": "python",
   "name": "python3"
  },
  "language_info": {
   "codemirror_mode": {
    "name": "ipython",
    "version": 3
   },
   "file_extension": ".py",
   "mimetype": "text/x-python",
   "name": "python",
   "nbconvert_exporter": "python",
   "pygments_lexer": "ipython3",
   "version": "3.9.21"
  }
 },
 "nbformat": 4,
 "nbformat_minor": 5
}
